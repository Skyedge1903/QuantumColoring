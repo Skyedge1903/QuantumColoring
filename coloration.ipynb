{
 "cells": [
  {
   "cell_type": "code",
   "execution_count": 1,
   "id": "c1eb909f-2e41-437a-b80d-824d9854a246",
   "metadata": {},
   "outputs": [
    {
     "name": "stderr",
     "output_type": "stream",
     "text": [
      "<frozen importlib._bootstrap>:219: RuntimeWarning: scipy._lib.messagestream.MessageStream size changed, may indicate binary incompatibility. Expected 56 from C header, got 64 from PyObject\n"
     ]
    }
   ],
   "source": [
    "import pylab\n",
    "import numpy as np\n",
    "from qiskit import Aer\n",
    "from qiskit.utils import QuantumInstance\n",
    "from qiskit.tools.visualization import plot_histogram\n",
    "from qiskit.algorithms import Grover, AmplificationProblem\n",
    "from qiskit.circuit.library.phase_oracle import PhaseOracle\n",
    "import os\n",
    "import tempfile\n",
    "from qiskit.exceptions import MissingOptionalLibraryError\n",
    "import networkx as nx\n",
    "import matplotlib.pyplot as plt"
   ]
  },
  {
   "cell_type": "code",
   "execution_count": 2,
   "id": "9a0f8a16-9bed-4b9f-8e55-a6d3d51977ef",
   "metadata": {},
   "outputs": [
    {
     "data": {
      "text/plain": [
       "{'1': ['2', '3'], '2': ['3', '1'], '3': ['1', '2']}"
      ]
     },
     "execution_count": 2,
     "metadata": {},
     "output_type": "execute_result"
    }
   ],
   "source": [
    "graph = { \"a\" : [\"b\", \"c\"],\n",
    "          \"b\" : [\"c\", \"a\"],\n",
    "          \"c\" : [\"a\", \"b\"],\n",
    "        }\n",
    "\n",
    "graph_converter = {}\n",
    "for i, j in zip(graph, range(len(graph))):\n",
    "    graph_converter[i] = str(j + 1)\n",
    "\n",
    "graph_convert = {}\n",
    "for i in graph:\n",
    "    graph_convert[graph_converter[i]] = [graph_converter[j] for j in graph[i]]\n",
    "\n",
    "graph_convert"
   ]
  },
  {
   "cell_type": "code",
   "execution_count": 3,
   "id": "58377838-4b96-4f1d-beb8-62b2e988fb04",
   "metadata": {},
   "outputs": [
    {
     "data": {
      "text/plain": [
       "'-S1C1 -S2C1 0'"
      ]
     },
     "execution_count": 3,
     "metadata": {},
     "output_type": "execute_result"
    }
   ],
   "source": [
    "# not (S1C1 and S3C1) = not S1C1 or not S3C1\n",
    "cnf_1 = []\n",
    "for i in graph_convert:\n",
    "    for j in graph_convert[i]:\n",
    "        for c in range(3):\n",
    "            cnf_1.append('-S' + str(i) + 'C' + str(c+1) + ' -S' + str(j) + 'C' + str(c+1) + ' 0')\n",
    "cnf_1[0]"
   ]
  },
  {
   "cell_type": "code",
   "execution_count": 4,
   "id": "b35ebd70-afef-4284-8730-75cdc91213eb",
   "metadata": {},
   "outputs": [
    {
     "name": "stdout",
     "output_type": "stream",
     "text": [
      "['-S1C1 -S2C1 0', '-S1C2 -S2C2 0', '-S1C3 -S2C3 0', '-S1C1 -S3C1 0', '-S1C2 -S3C2 0', '-S1C3 -S3C3 0', '-S2C1 -S3C1 0', '-S2C2 -S3C2 0', '-S2C3 -S3C3 0', '-S2C1 -S1C1 0', '-S2C2 -S1C2 0', '-S2C3 -S1C3 0', '-S3C1 -S1C1 0', '-S3C2 -S1C2 0', '-S3C3 -S1C3 0', '-S3C1 -S2C1 0', '-S3C2 -S2C2 0', '-S3C3 -S2C3 0']\n"
     ]
    }
   ],
   "source": [
    "print(cnf_1)"
   ]
  },
  {
   "cell_type": "code",
   "execution_count": 5,
   "id": "7a33c4d2-ca19-4de0-8424-b73b9814024d",
   "metadata": {},
   "outputs": [
    {
     "data": {
      "text/plain": [
       "'-S1C1 -S1C2 S1C3 0'"
      ]
     },
     "execution_count": 5,
     "metadata": {},
     "output_type": "execute_result"
    }
   ],
   "source": [
    "# S1C1 xor S1C2 xor S1C3 = (not S1C1 or not S1C2 or S1C3) and (not S1C1 or S1C2 or not S1C3) and (S1C1 or not S1C2 or not S1C3) and (S1C1 or S1C2 or S1C3)\n",
    "cnf_2 = []\n",
    "for i in graph_convert:\n",
    "    cnf_2.append('-S' + str(i) + 'C1 -S' + str(i) + 'C2 S' + str(i) + 'C3' + ' 0')\n",
    "    cnf_2.append('-S' + str(i) + 'C1 S' + str(i) + 'C2 -S' + str(i) + 'C3' + ' 0')\n",
    "    cnf_2.append('S' + str(i) + 'C1 -S' + str(i) + 'C2 -S' + str(i) + 'C3' + ' 0')\n",
    "    cnf_2.append('S' + str(i) + 'C1 S' + str(i) + 'C2 S' + str(i) + 'C3' + ' 0')\n",
    "cnf_2[0]"
   ]
  },
  {
   "cell_type": "code",
   "execution_count": 6,
   "id": "cb7ecda3-39ce-4589-88e0-4c9e102f5a85",
   "metadata": {},
   "outputs": [
    {
     "data": {
      "text/plain": [
       "30"
      ]
     },
     "execution_count": 6,
     "metadata": {},
     "output_type": "execute_result"
    }
   ],
   "source": [
    "lenght = len(cnf_1) + len(cnf_2)\n",
    "cnf_1 = '\\n'.join(cnf_1)\n",
    "cnf_2 = '\\n'.join(cnf_2)\n",
    "cnf = cnf_1 + '\\n' + cnf_2\n",
    "lenght"
   ]
  },
  {
   "cell_type": "code",
   "execution_count": 7,
   "id": "2b2f5644-3e6d-4cac-9971-197fc89f5151",
   "metadata": {},
   "outputs": [],
   "source": [
    "all_ = []\n",
    "\n",
    "for i in graph_convert:\n",
    "    for j in range(3):\n",
    "        all_.append('S'+ str(i) + 'C' + str(j+1))\n",
    "\n",
    "converter = {}\n",
    "for i, j in zip(all_, range(len(all_))):\n",
    "    converter[i] = str(j + 1)"
   ]
  },
  {
   "cell_type": "code",
   "execution_count": 8,
   "id": "60f3b477-c831-4b44-ac8d-72acecd91a6e",
   "metadata": {},
   "outputs": [],
   "source": [
    "for i in converter:\n",
    "    cnf = cnf.replace(i, converter[i])"
   ]
  },
  {
   "cell_type": "code",
   "execution_count": 9,
   "id": "81bc940b-035c-4cab-81e3-8abf617055cc",
   "metadata": {},
   "outputs": [
    {
     "name": "stdout",
     "output_type": "stream",
     "text": [
      "\n",
      "c example DIMACS-CNF SAT\n",
      "p cnf 9 30\n",
      "-1 -4 0\n",
      "-2 -5 0\n",
      "-3 -6 0\n",
      "-1 -7 0\n",
      "-2 -8 0\n",
      "-3 -9 0\n",
      "-4 -7 0\n",
      "-5 -8 0\n",
      "-6 -9 0\n",
      "-4 -1 0\n",
      "-5 -2 0\n",
      "-6 -3 0\n",
      "-7 -1 0\n",
      "-8 -2 0\n",
      "-9 -3 0\n",
      "-7 -4 0\n",
      "-8 -5 0\n",
      "-9 -6 0\n",
      "-1 -2 3 0\n",
      "-1 2 -3 0\n",
      "1 -2 -3 0\n",
      "1 2 3 0\n",
      "-4 -5 6 0\n",
      "-4 5 -6 0\n",
      "4 -5 -6 0\n",
      "4 5 6 0\n",
      "-7 -8 9 0\n",
      "-7 8 -9 0\n",
      "7 -8 -9 0\n",
      "7 8 9 0\n"
     ]
    }
   ],
   "source": [
    "input_sat_instance = '''\n",
    "c example DIMACS-CNF SAT\n",
    "p cnf '''\n",
    "\n",
    "input_sat_instance += str(len(converter)) + ' ' + str(lenght) + '\\n' + cnf\n",
    "print(input_sat_instance)"
   ]
  },
  {
   "cell_type": "code",
   "execution_count": 10,
   "id": "4845cfeb-cf8d-4e92-91a7-8f718e9c955e",
   "metadata": {},
   "outputs": [],
   "source": [
    "fp = tempfile.NamedTemporaryFile(mode='w+t', delete=False)\n",
    "fp.write(input_sat_instance)\n",
    "file_name = fp.name\n",
    "fp.close()\n",
    "oracle = None\n",
    "try:\n",
    "    oracle = PhaseOracle.from_dimacs_file(file_name)\n",
    "except MissingOptionalLibraryError as ex:\n",
    "    print(ex)\n",
    "finally:\n",
    "    os.remove(file_name)"
   ]
  },
  {
   "cell_type": "code",
   "execution_count": 11,
   "id": "97850919-3a5d-4a73-9886-a7e76d506844",
   "metadata": {},
   "outputs": [],
   "source": [
    "problem = None\n",
    "if oracle is not None:\n",
    "    problem = AmplificationProblem(oracle, is_good_state=oracle.evaluate_bitstring)"
   ]
  },
  {
   "cell_type": "code",
   "execution_count": 12,
   "id": "f606c15e-5005-4ce8-b9f1-70e03eed4c93",
   "metadata": {},
   "outputs": [
    {
     "name": "stdout",
     "output_type": "stream",
     "text": [
      "010100001\n"
     ]
    }
   ],
   "source": [
    "backend = Aer.get_backend('aer_simulator')\n",
    "quantum_instance = QuantumInstance(backend, shots=4096)\n",
    "grover = Grover(quantum_instance=quantum_instance)\n",
    "result = None\n",
    "if problem is not None:\n",
    "    result = grover.amplify(problem)\n",
    "    print(result.assignment)"
   ]
  },
  {
   "cell_type": "code",
   "execution_count": 13,
   "id": "5b3ed8c6-672e-4129-8491-b8ada542f94b",
   "metadata": {},
   "outputs": [
    {
     "name": "stdout",
     "output_type": "stream",
     "text": [
      "['green', 'red', 'blue']\n"
     ]
    },
    {
     "data": {
      "image/png": "[encoded data removed]",
      "text/plain": [
       "<Figure size 432x288 with 1 Axes>"
      ]
     },
     "metadata": {},
     "output_type": "display_data"
    }
   ],
   "source": [
    "G = nx.Graph(graph)\n",
    "pos = nx.spring_layout(G)\n",
    "\n",
    "sortie = [str(result.assignment)[i*3: i*3+3] for i in range(int(len(str(result.assignment))/3))]\n",
    "\n",
    "color = ['red', 'green', 'blue']\n",
    "color_map = [None for i in graph]\n",
    "for i, j in zip(sortie, range(len(sortie))):\n",
    "    if i == '100':\n",
    "        color_map[j] = color[0]\n",
    "    if i == '010':\n",
    "        color_map[j] = color[1]\n",
    "    if i == '001':\n",
    "        color_map[j] = color[2]\n",
    "\n",
    "print(color_map)\n",
    "\n",
    "nx.draw(G, pos, node_color=color_map, with_labels=True)\n",
    "plt.show()"
   ]
  },
  {
   "cell_type": "code",
   "execution_count": null,
   "id": "513b9cf6-844e-46e8-90eb-1d9b30574d7b",
   "metadata": {},
   "outputs": [],
   "source": []
  }
 ],
 "metadata": {
  "kernelspec": {
   "display_name": "Python 3 (ipykernel)",
   "language": "python",
   "name": "python3"
  },
  "language_info": {
   "codemirror_mode": {
    "name": "ipython",
    "version": 3
   },
   "file_extension": ".py",
   "mimetype": "text/x-python",
   "name": "python",
   "nbconvert_exporter": "python",
   "pygments_lexer": "ipython3",
   "version": "3.8.13"
  },
  "widgets": {
   "application/vnd.jupyter.widget-state+json": {
    "state": {},
    "version_major": 2,
    "version_minor": 0
   }
  }
 },
 "nbformat": 4,
 "nbformat_minor": 5
}
